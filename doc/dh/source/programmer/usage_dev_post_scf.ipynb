{
 "cells": [
  {
   "cell_type": "markdown",
   "id": "1d0b0aea-d8e9-455c-a56e-88b570517c16",
   "metadata": {},
   "source": [
    "# Usage and Development of Post-SCF"
   ]
  },
  {
   "cell_type": "markdown",
   "id": "23563f02-5993-40ce-b6bf-1746c8f86744",
   "metadata": {},
   "source": [
    "## Develop a post-SCF method"
   ]
  },
  {
   "cell_type": "markdown",
   "id": "f40b5e0a-f516-4c4a-b5b4-a81d8eb6adca",
   "metadata": {},
   "source": [
    "Suppose you are going to implement restricted MP2, then you may first run RDH.\n",
    "\n",
    "Following code gives reference state of B3LYP."
   ]
  },
  {
   "cell_type": "code",
   "execution_count": 1,
   "id": "13331203-0574-48b6-bd3a-8d12e59ca5a6",
   "metadata": {},
   "outputs": [],
   "source": [
    "from pyscf import gto\n",
    "from pyscf.dh import RDHBase, RMP2ofDH, RDH"
   ]
  },
  {
   "cell_type": "code",
   "execution_count": 2,
   "id": "c535371a-28f1-4ba7-a806-e7e03044e7f4",
   "metadata": {},
   "outputs": [],
   "source": [
    "mol = gto.Mole(atom=\"O; H 1 0.94; H 1 0.94 2 104.5\", basis=\"6-31G\").build()"
   ]
  },
  {
   "cell_type": "code",
   "execution_count": 3,
   "id": "e35ce417-7e4a-40bb-9d6a-6f31ffa326bc",
   "metadata": {},
   "outputs": [
    {
     "name": "stdout",
     "output_type": "stream",
     "text": [
      "converged SCF energy = -76.3838343073143\n",
      "[RESULT] Energy of B3LYPG:     -76.383834307314\n"
     ]
    }
   ],
   "source": [
    "mf_dh = RDH(mol, xc=\"B3LYPg\").run()"
   ]
  },
  {
   "cell_type": "markdown",
   "id": "6bcd0e05-2bec-4566-beb3-c98e35cb88ec",
   "metadata": {},
   "source": [
    "And then, you just have written a function that solely evaluates MP2 conventional incore correlation energy `kernel_energy_rmp2_conv_full_incore`. You may want to try whether it is correct:\n",
    "\n",
    ":::{note}\n",
    "\n",
    "These functions with `kernel_` prefix is encouraged not to call `RDH` instance, or very complicated flags. Make kernel functions as simple as posssible.\n",
    "\n",
    "Throw most flag-decisions to driver functions, and leave algorithms to kernel functions if possible.\n",
    "\n",
    ":::"
   ]
  },
  {
   "cell_type": "code",
   "execution_count": 4,
   "id": "1e78f3a3-962b-43e6-81d1-890f32f65d21",
   "metadata": {},
   "outputs": [],
   "source": [
    "from pyscf.dh.energy.mp2.rmp2 import kernel_energy_rmp2_conv_full_incore"
   ]
  },
  {
   "cell_type": "code",
   "execution_count": 5,
   "id": "d45cd8bf-9971-406b-96b9-e374b461e8d7",
   "metadata": {},
   "outputs": [],
   "source": [
    "mo_energy = mf_dh.mo_energy\n",
    "mo_coeff = mf_dh.mo_coeff\n",
    "nocc, nvir = mf_dh.nocc, mf_dh.nvir"
   ]
  },
  {
   "cell_type": "code",
   "execution_count": 6,
   "id": "14085885-6254-4dbc-b37a-1c0533141fb3",
   "metadata": {},
   "outputs": [
    {
     "name": "stdout",
     "output_type": "stream",
     "text": [
      "\n",
      "WARN: Conventional integral of MP2 is not recommended!\n",
      "Use density fitting approximation is recommended.\n",
      "\n",
      "[RESULT] Energy corr MP2 of same-spin:      -0.0425894017\n",
      "[RESULT] Energy corr MP2 of oppo-spin:      -0.1399949235\n",
      "[RESULT] Energy corr MP2 of total:          -0.1825843252\n"
     ]
    },
    {
     "data": {
      "text/plain": [
       "{'eng_corr_MP2_bi1': -0.13999492353172124,\n",
       " 'eng_corr_MP2_bi2': -0.097405521851971,\n",
       " 'eng_corr_MP2_OS': -0.13999492353172124,\n",
       " 'eng_corr_MP2_SS': -0.04258940167975024,\n",
       " 'eng_corr_MP2': -0.1825843252114715}"
      ]
     },
     "execution_count": 6,
     "metadata": {},
     "output_type": "execute_result"
    }
   ],
   "source": [
    "kernel_energy_rmp2_conv_full_incore(mo_energy, mo_coeff, mol, nocc, nvir)"
   ]
  },
  {
   "cell_type": "markdown",
   "id": "278fc4c3-e2bf-426f-b31a-76a326f0d08a",
   "metadata": {},
   "source": [
    "After that, you have finished some complicated works on how to manage flags (such as whether a RI or Conventinoal ERI is applied to MP2 correlation) in function `driver_energy_rmp2`.\n",
    "\n",
    ":::{note}\n",
    "\n",
    "Make sure the options (such as `integral_scheme_mp2` in the following code) have been defined in `options.py` in any directory of pyscf.dh with default values. Function `pyscf.dh.util.get_default_options` will read these options during importing of `pyscf.dh`.\n",
    "\n",
    "If you encountered warnings of\n",
    "\n",
    "> Option {key} is not in the default option list...\n",
    "\n",
    "then it is recommended to add these options to `options.py`, and restart your python process. Or you can mute warnings.\n",
    "\n",
    ":::"
   ]
  },
  {
   "cell_type": "code",
   "execution_count": 7,
   "id": "a3d0dbd5-2c03-456e-ad6f-d92bd63c06c1",
   "metadata": {},
   "outputs": [],
   "source": [
    "from pyscf.dh.energy.mp2.rmp2 import driver_energy_rmp2"
   ]
  },
  {
   "cell_type": "code",
   "execution_count": 8,
   "id": "0998e39e-f858-40ab-989d-d3a898431fa2",
   "metadata": {},
   "outputs": [
    {
     "name": "stdout",
     "output_type": "stream",
     "text": [
      "=== Conventional ===\n",
      "\n",
      "WARN: Conventional integral of MP2 is not recommended!\n",
      "Use density fitting approximation is recommended.\n",
      "\n",
      "[RESULT] Energy corr MP2 of same-spin:      -0.0425894017\n",
      "[RESULT] Energy corr MP2 of oppo-spin:      -0.1399949235\n",
      "[RESULT] Energy corr MP2 of total:          -0.1825843252\n",
      "{'eng_corr_MP2_bi1': -0.13999492353172124, 'eng_corr_MP2_bi2': -0.097405521851971, 'eng_corr_MP2_OS': -0.13999492353172124, 'eng_corr_MP2_SS': -0.04258940167975024, 'eng_corr_MP2': -0.1825843252114715}\n",
      "=== RI-MP2 ===\n",
      "[RESULT] Energy corr MP2 of same-spin:      -0.0427631041\n",
      "[RESULT] Energy corr MP2 of oppo-spin:      -0.1396993715\n",
      "[RESULT] Energy corr MP2 of total:          -0.1824624756\n",
      "{'eng_corr_MP2_bi1': -0.1396993715420517, 'eng_corr_MP2_bi2': -0.09693626747354596, 'eng_corr_MP2_OS': -0.1396993715420517, 'eng_corr_MP2_SS': -0.04276310406850574, 'eng_corr_MP2': -0.18246247561055745}\n"
     ]
    }
   ],
   "source": [
    "with mf_dh.params.temporary_flags({\"integral_scheme_mp2\": \"conv\"}):\n",
    "    print(\"=== Conventional ===\")\n",
    "    print(driver_energy_rmp2(mf_dh))\n",
    "with mf_dh.params.temporary_flags({\"integral_scheme_mp2\": \"RI\"}):\n",
    "    print(\"=== RI-MP2 ===\")\n",
    "    print(driver_energy_rmp2(mf_dh))"
   ]
  },
  {
   "cell_type": "markdown",
   "id": "28aef919-0824-4c94-9d32-fe83128f715a",
   "metadata": {},
   "source": [
    "Finally, you have finished the driver function. After `RMP2ofDH.kernel` function finished (which is a must-implemented method, as a wrapper of your driver function), you may try to call your class instance as the following way:"
   ]
  },
  {
   "cell_type": "code",
   "execution_count": 9,
   "id": "0fa4b8b6-3c81-4b2b-a46b-9a2284a3259d",
   "metadata": {},
   "outputs": [],
   "source": [
    "from pyscf.dh.energy.mp2.rmp2 import RMP2ofDH"
   ]
  },
  {
   "cell_type": "code",
   "execution_count": 10,
   "id": "199238ca-7107-4d26-9b8c-8f9182c3aa18",
   "metadata": {},
   "outputs": [],
   "source": [
    "mf_mp2_dh = RMP2ofDH.from_rdh(mf_dh)"
   ]
  },
  {
   "cell_type": "code",
   "execution_count": 11,
   "id": "52358acd-090b-4df4-acd3-41c0731fa188",
   "metadata": {},
   "outputs": [
    {
     "name": "stdout",
     "output_type": "stream",
     "text": [
      "[RESULT] Energy corr MP2 of same-spin:      -0.0427631041\n",
      "[RESULT] Energy corr MP2 of oppo-spin:      -0.1396993715\n",
      "[RESULT] Energy corr MP2 of total:          -0.1824624756\n"
     ]
    },
    {
     "data": {
      "text/plain": [
       "{'eng_corr_MP2_bi1': -0.1396993715420517,\n",
       " 'eng_corr_MP2_bi2': -0.09693626747354596,\n",
       " 'eng_corr_MP2_OS': -0.1396993715420517,\n",
       " 'eng_corr_MP2_SS': -0.04276310406850574,\n",
       " 'eng_corr_MP2': -0.18246247561055745}"
      ]
     },
     "execution_count": 11,
     "metadata": {},
     "output_type": "execute_result"
    }
   ],
   "source": [
    "mf_mp2_dh.kernel(integral_scheme_mp2=\"RI\")"
   ]
  },
  {
   "cell_type": "markdown",
   "id": "9e2a046f-de66-4d04-a988-cd67abd82f6c",
   "metadata": {},
   "source": [
    "## Counting energy components"
   ]
  },
  {
   "cell_type": "markdown",
   "id": "7f303a11-19b1-49f8-85a9-6e0395b85324",
   "metadata": {},
   "source": [
    "For doubly hybrids (especially xDH framework), energies are explicitly counted by linear combination of several exchange-correlation components (at the given SCF result, B3LYPg for example of XYGn)."
   ]
  },
  {
   "cell_type": "markdown",
   "id": "80f20032-fdee-4ad9-bf5e-aa238c1200cc",
   "metadata": {},
   "source": [
    "Before evaluating exch-corr energies, we may want to evaluate energies other than exch-corr. You may\n",
    "\n",
    "- Force-run the energy evaluation if the low-rung part of functional is the same to SCF functional (adding option `force_eng_low_rung_revaluate`).\n",
    "- Evaluating another exch-corr functional.\n",
    "\n",
    "Then you will get energy other than exch-corr is `'eng_noxc': -67.00438589707584`."
   ]
  },
  {
   "cell_type": "code",
   "execution_count": 12,
   "id": "612df520-7b71-4ebe-a66a-004cb8b7385e",
   "metadata": {},
   "outputs": [
    {
     "name": "stdout",
     "output_type": "stream",
     "text": [
      "[RESULT] Energy of exchange 0.2*HF:      -1.795226773457\n",
      "[RESULT] Energy of process_energy_low_rung (non_exx): -7.584221636781345\n",
      "[RESULT] Energy of process_energy_low_rung (total): -9.37944841023839\n",
      "[RESULT] Energy of B3LYPG:     -76.383834307314\n"
     ]
    }
   ],
   "source": [
    "with mf_dh.params.temporary_flags({\"force_eng_low_rung_revaluate\": True}):\n",
    "    mf_dh.make_energy_dh(\"B3LYPg\")"
   ]
  },
  {
   "cell_type": "code",
   "execution_count": 13,
   "id": "cad2bd26-341b-4233-b3c6-ef8ea008b0ad",
   "metadata": {},
   "outputs": [
    {
     "data": {
      "text/plain": [
       "{'eng_dh_B3LYPG': -76.38383430731429,\n",
       " 'eng_corr_MP2_bi1': -0.1396993715420517,\n",
       " 'eng_corr_MP2_bi2': -0.09693626747354596,\n",
       " 'eng_corr_MP2_OS': -0.1396993715420517,\n",
       " 'eng_corr_MP2_SS': -0.04276310406850574,\n",
       " 'eng_corr_MP2': -0.18246247561055745,\n",
       " 'eng_exx_HF': -8.976133867285224,\n",
       " 'eng_purexc_B3LYPG': -7.584221636781345,\n",
       " 'eng_nuc': 9.363261243324963,\n",
       " 'eng_hcore': -123.35926285877434,\n",
       " 'eng_j': 46.991615718373495,\n",
       " 'eng_noxc': -67.00438589707589}"
      ]
     },
     "execution_count": 13,
     "metadata": {},
     "output_type": "execute_result"
    }
   ],
   "source": [
    "mf_dh.params.results"
   ]
  },
  {
   "cell_type": "markdown",
   "id": "5bcae063-ed6f-4c26-acc3-036aa63c53b8",
   "metadata": {},
   "source": [
    "You may also obtain any energy contribution from pure (DFT) xc if you wish.\n",
    "\n",
    ":::{note}\n",
    "\n",
    "For B3LYP, the exact exchange part `0.2*HF` is not included in pure part. To evaluate this part, one may run `mf_dh.make_energy_dh(\"HF\")` and obtaining entry `eng_exx_HF`.\n",
    "\n",
    "`SSR(GGA_X_B88, 0.7)` is scaled short range-separate part of B88 exchange functional, with $\\mu = 0.7$.\n",
    "\n",
    ":::"
   ]
  },
  {
   "cell_type": "code",
   "execution_count": 18,
   "id": "ef6528e7-eae4-466c-8a05-4da3a3ceaedc",
   "metadata": {},
   "outputs": [
    {
     "data": {
      "text/plain": [
       "{'eng_purexc_GGA_X_B88': -9.018238081127627,\n",
       " 'eng_purexc_, LYP': -0.34043520227989316,\n",
       " 'eng_purexc_BLYP': -9.358673283407521,\n",
       " 'eng_purexc_B3LYP': -7.547068290806522,\n",
       " 'eng_purexc_SSR(GGA_X_B88, 0.7),': -5.844097712132224}"
      ]
     },
     "execution_count": 18,
     "metadata": {},
     "output_type": "execute_result"
    }
   ],
   "source": [
    "mf_dh.make_energy_purexc([\"GGA_X_B88\", \", LYP\", \"BLYP\", \"B3LYP\", \"SSR(GGA_X_B88, 0.7), \"])"
   ]
  },
  {
   "cell_type": "markdown",
   "id": "443a9e85-b267-4dc4-ad5a-3b8ec55e6c29",
   "metadata": {},
   "source": [
    "You may also get energy from another functional (using molecular orbitals from B3LYPg):"
   ]
  },
  {
   "cell_type": "code",
   "execution_count": 15,
   "id": "879aaf3d-dd14-4c31-a79d-6629a33a1400",
   "metadata": {},
   "outputs": [
    {
     "name": "stdout",
     "output_type": "stream",
     "text": [
      "[RESULT] Energy of process_energy_low_rung (non_exx): -9.292350024336056\n",
      "[RESULT] Energy of process_energy_low_rung (total): -9.292350024336056\n",
      "[RESULT] Energy of PBE:     -76.296735921412\n"
     ]
    },
    {
     "data": {
      "text/plain": [
       "-76.29673592141195"
      ]
     },
     "execution_count": 15,
     "metadata": {},
     "output_type": "execute_result"
    }
   ],
   "source": [
    "mf_dh.make_energy_dh(\"PBE\")"
   ]
  },
  {
   "cell_type": "markdown",
   "id": "dbc357a7-2f7d-4421-8e4d-4189746970fe",
   "metadata": {},
   "source": [
    "And you may wish to evaluate very complicated functional!"
   ]
  },
  {
   "cell_type": "code",
   "execution_count": 16,
   "id": "82dc2280-973a-41ba-98b5-a5a301558463",
   "metadata": {},
   "outputs": [
    {
     "name": "stdout",
     "output_type": "stream",
     "text": [
      "\n",
      "WARN: Low-rung DFT has different values of omega found for RSH functional.\n",
      "We evaluate EXX and pure DFT in separate.\n",
      "This may cause problem that if some pure DFT components is omega-dependent and our program currently could not handle it.\n",
      "Anyway, this is purely experimental and use with caution.\n",
      "\n",
      "[RESULT] Energy of exchange 0.75*HF:      -6.732100400464\n",
      "[RESULT] Energy of exchange 0.15*LR_HF(0.75):      -0.494072587620\n",
      "[RESULT] Energy of exchange 0.35*LR_HF(1.5):      -1.714187227123\n",
      "[RESULT] Energy of process_energy_low_rung (non_exx): -2.4053078553463934\n",
      "[RESULT] Energy of process_energy_low_rung (total): -2.4053078553463934\n",
      "[RESULT] Energy of process_energy_low_rung (handle_multiple_omega): -11.3456680705532\n",
      "[RESULT] Energy of correlation MP2(0.5, 0):      -0.069849685771\n",
      "[RESULT] Energy of correlation MP2(0.5, 0):      -0.069849685771\n",
      "[RESULT] Energy of correlation IEPA(0.09, 0.12):      -0.017635729144\n",
      "[RESULT] Energy corr MP2 of same-spin:      -0.0188505810\n",
      "[RESULT] Energy corr MP2 of oppo-spin:      -0.0414109213\n",
      "[RESULT] Energy corr MP2 of total:          -0.0602615022\n",
      "[RESULT] Energy of correlation RS_MP2(1.2, 0.6375, 0.2625):      -0.031347739811\n",
      "[RESULT] Energy of 0.75*HF + 0.15*LR_HF(0.75) + 0.35*LR_HF(1.5) + 0.25*PBE, 0.5*PBE + MP2(0.5, 0) + RS_MP2(1.2, 0.6375, 0.2625) + IEPA(0.09, 0.12):     -78.468887122354\n"
     ]
    },
    {
     "data": {
      "text/plain": [
       "-78.46888712235442"
      ]
     },
     "execution_count": 16,
     "metadata": {},
     "output_type": "execute_result"
    }
   ],
   "source": [
    "mf_dh.make_energy_dh(\"0.75*HF + 0.35*LR_HF(1.5) + 0.15*LR_HF(0.75) + 0.25*PBE, 0.5*PBE + 0.5*MP2_OS + 0.15*IEPA(0.6, 0.8) + 0.75*RS_MP2(1.2, 0.85, 0.35)\")"
   ]
  },
  {
   "cell_type": "markdown",
   "id": "132c8678-9f9e-403b-9562-a9b5ce2e1af0",
   "metadata": {},
   "source": [
    "All components can be added by its coefficients."
   ]
  },
  {
   "cell_type": "markdown",
   "id": "b546a6af-5ffe-4992-9067-be163a43bd60",
   "metadata": {},
   "source": [
    ":::{note}\n",
    "\n",
    "The way of parameters of an advanced correlation, can be viewed in file `pyscf.dh.util.xccode.correlations.definition_corr.json` and classmethod `pyscf.dh.util.XCType.def_parameters`.\n",
    "\n",
    "For example `RS_MP2(1.2, 0.85, 0.35)`, we found type of `RS_MP2` is `RSMP2`:\n",
    "\n",
    "```json\n",
    "    \"RS_MP2\": {\n",
    "        \"type\": \"RSMP2\",\n",
    "        \"ref\": \"10.1002/qua.560560417\"\n",
    "    },\n",
    "```\n",
    "\n",
    "and found that for type `RSMP2`, there is one essential parameter (range-separate omega) and two optional addable parameters (oppo-spin and same-spin):\n",
    "\n",
    "```python\n",
    "            cls.RSMP2: [\n",
    "                [\"range-separate omega\", False],\n",
    "                [\"oppo-spin coefficient\", True],\n",
    "                [\"same-spin coefficient\", True],\n",
    "            ],\n",
    "```\n",
    "\n",
    "As a result, `RS_MP2(1.2, 0.85, 0.35)` refers to $0.85 E^\\mathrm{OS}_\\mathrm{MP2} (\\mu=1.2) + 0.35 E^\\mathrm{SS}_\\mathrm{MP2} (\\mu=1.2)$.\n",
    "\n",
    ":::"
   ]
  },
  {
   "cell_type": "code",
   "execution_count": 17,
   "id": "c4356460-93dc-47c7-ba0f-e05a862e3143",
   "metadata": {},
   "outputs": [
    {
     "data": {
      "text/plain": [
       "-78.46888712235442"
      ]
     },
     "execution_count": 17,
     "metadata": {},
     "output_type": "execute_result"
    }
   ],
   "source": [
    "results = mf_dh.params.results\n",
    "\n",
    "(\n",
    "    + results[\"eng_noxc\"]\n",
    "    + 0.75 * results[\"eng_exx_HF\"]\n",
    "    + 0.35 * results[\"eng_exx_HF_omega(1.500000)\"]\n",
    "    + 0.15 * results[\"eng_exx_HF_omega(0.750000)\"]\n",
    "    + results[\"eng_purexc_0.25*PBE, 0.5*PBE\"]\n",
    "    + 0.5 * results[\"eng_corr_MP2_OS\"]\n",
    "    + 0.15 * 0.6 * results[\"eng_corr_IEPA_OS\"]\n",
    "    + 0.15 * 0.8 * results[\"eng_corr_IEPA_SS\"]\n",
    "    + 0.75 * 0.85 * results[\"eng_corr_MP2_OS_omega(1.200000)\"]\n",
    "    + 0.75 * 0.35 * results[\"eng_corr_MP2_SS_omega(1.200000)\"]\n",
    ")"
   ]
  },
  {
   "cell_type": "markdown",
   "id": "76856216-3f29-4223-aef2-5290e9b9c0fc",
   "metadata": {},
   "source": [
    "## Adding New Functional"
   ]
  },
  {
   "cell_type": "markdown",
   "id": "db473769-ebba-4f95-9f9c-34bcf9b2b5f2",
   "metadata": {},
   "source": [
    "To add a new functional, one may open or create a json file in `pyscf.dh.util.xccode.functionals`.\n",
    "\n",
    "The essential field for functional dictionary is\n",
    "\n",
    "- `code`: Energy evaluation functional\n",
    "- `code_scf`: Self-consistent functional (low-rung only)\n",
    "\n",
    "For B2PLYP-like functionals (bDH or gDH), the self-consistent functional is the same to energy evaluation functional, except for the advanced correlation (MP2, RPA, etc). For these functionals, `code_scf` can be left empty."
   ]
  },
  {
   "cell_type": "markdown",
   "id": "5ed864d4-048c-4ec2-a7e5-ae8f913d633a",
   "metadata": {},
   "source": [
    "Currently, some fields are defined, but may experience code refactor. Or these fields are not fully utilized in program.\n",
    "\n",
    "- `ref`: Reference of functional\n",
    "- `family`: Family of functional (xDH@B3LYP, DSD, revDSD, etc)\n",
    "- `todo`: Something not fully resolved (such as functionals involving SCAN)"
   ]
  },
  {
   "cell_type": "markdown",
   "id": "71e39397-cc12-4ff5-be9c-d48e374d5715",
   "metadata": {},
   "source": [
    "## Adding Tests"
   ]
  },
  {
   "cell_type": "markdown",
   "id": "dbd3124b-9bd0-40ab-99cd-732634a3e3fd",
   "metadata": {},
   "source": [
    "See examples in all test directories (not only in `pyscf.dh.tests`, but also in locations like `pyscf.dh.energy.mp2.tests`)."
   ]
  }
 ],
 "metadata": {
  "kernelspec": {
   "display_name": "Python 3 (ipykernel)",
   "language": "python",
   "name": "python3"
  },
  "language_info": {
   "codemirror_mode": {
    "name": "ipython",
    "version": 3
   },
   "file_extension": ".py",
   "mimetype": "text/x-python",
   "name": "python",
   "nbconvert_exporter": "python",
   "pygments_lexer": "ipython3",
   "version": "3.10.10"
  }
 },
 "nbformat": 4,
 "nbformat_minor": 5
}
