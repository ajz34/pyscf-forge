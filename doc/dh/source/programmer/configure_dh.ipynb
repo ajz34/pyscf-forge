{
 "cells": [
  {
   "cell_type": "markdown",
   "id": "93af249e-0fe4-4c12-a909-a7210dcca102",
   "metadata": {},
   "source": [
    "# Configure program environment of dh"
   ]
  },
  {
   "cell_type": "markdown",
   "id": "02618854-2154-4f3d-b29c-d02cb5ff73c4",
   "metadata": {},
   "source": [
    "## Install PySCF"
   ]
  },
  {
   "cell_type": "markdown",
   "id": "f5ccecfd-9d2f-4343-b531-aa68af5c3c48",
   "metadata": {},
   "source": [
    "- In general case, install PySCF from pypi should work in most cases.\n",
    "\n",
    "- A more step is add a statement in `pyscf/__init__.py`:\n",
    "    \n",
    "    ```python\n",
    "    '''\n",
    "        >>> from pyscf import gto, scf\n",
    "        >>> mol = gto.M(atom='H 0 0 0; H 0 0 1.2', basis='cc-pvdz')\n",
    "        >>> mol.apply(scf.RHF).run()\n",
    "        converged SCF energy = -1.06111199785749\n",
    "        -1.06111199786\n",
    "\n",
    "    '''\n",
    "    __path__ = __import__('pkgutil').extend_path(__path__, __name__)  # <<<< ADD THIS LINE\n",
    "    __version__ = '2.1.1'\n",
    "\n",
    "    import os\n",
    "    import sys\n",
    "    # Avoid too many threads being created in OMP loops.\n",
    "    # See issue https://github.com/pyscf/pyscf/issues/317\n",
    "    ```"
   ]
  },
  {
   "cell_type": "markdown",
   "id": "52192ff5-3ce8-4c58-92b0-cde5505872ed",
   "metadata": {},
   "source": [
    "- For advanced usage (such as using range-separate doubly hybrids such as RS-PBE-P86), one may use libxc version to the master branch of libxc (instead of stable version 6.x). You may compile the PySCF for yourself by modifing `pyscf/lib/CMakeLists.txt` and using cmake to build library of pyscf.\n",
    "\n",
    "    - For some cases, if using certain version of mkl (maybe 2023.0), you may encounter library loading problems when importing pyscf. A possible solution is declaring the following variables in your shell environment, for example bash:\n",
    "    \n",
    "    ```bash\n",
    "    # extracted from /apps/dh/qscf.env on group server\n",
    "    export CONDA_PATH=/share/apps/dh/miniconda3/envs/pyscf\n",
    "    export LD_PRELOAD=$LD_PRELOAD:$CONDA_PATH/lib/libmkl_intel_lp64.so\n",
    "    export LD_PRELOAD=$LD_PRELOAD:$CONDA_PATH/lib/libmkl_core.so\n",
    "    export LD_PRELOAD=$LD_PRELOAD:$CONDA_PATH/lib/libiomp5.so\n",
    "    export LD_PRELOAD=$LD_PRELOAD:$CONDA_PATH/lib/libmkl_intel_thread.so\n",
    "    ```"
   ]
  },
  {
   "cell_type": "markdown",
   "id": "f1f4dfbd-6c2d-4fcb-ace7-97e690a671b7",
   "metadata": {},
   "source": [
    "## Install pyscf-forge"
   ]
  },
  {
   "cell_type": "markdown",
   "id": "6b248785-7ade-4784-a186-aab2f63b8261",
   "metadata": {},
   "source": [
    "For downloading and git workflow, \n",
    "\n",
    "- Git clone pyscf-forge from gitee `https://gitee.com/ajz34/pyscf-forge`.\n",
    "- **IMPORTANT** change branch to `pre-0.2` (currently we develop this project from this branch).\n",
    "- **IMPORTANT** create branch from `pre-0.2` by yourself.\n",
    "- Create pull-request on gitee, and merge to branch `ajz34/pyscf-forge:pre-0.2`.\n",
    "    - By finalizing a minor version 0.2, ajz34 may create a pull-request to github `pyscf/pyscf-forge:dh-0.2`. All contributions from contributors should be available in git log and will be merged into original repo pyscf/pyscf-forge (if PR accepted).\n",
    "- **IMPORTANT** if you are not familiar to git, please make a backup before conducting any operations other than `git add` and `git commit`. "
   ]
  },
  {
   "cell_type": "markdown",
   "id": "c43997f5-a907-4b90-8f73-a847acf71bc3",
   "metadata": {},
   "source": [
    "To make pyscf-forge available,\n",
    "\n",
    "- Since we only use and develop `dh`, then just make pyscf-forge as a usual extension.\n",
    "    \n",
    "    ```bash\n",
    "    export PYSCF_EXT_PATH=path_to_pyscf_forge:$PYSCF_EXT_PATH\n",
    "    ```"
   ]
  },
  {
   "cell_type": "markdown",
   "id": "b403bbec-e0f4-4b97-b073-1b96015efac6",
   "metadata": {},
   "source": [
    "- Finally, try out if importing successful."
   ]
  },
  {
   "cell_type": "code",
   "execution_count": 1,
   "id": "d5779da6-545f-4b8b-ae04-66807423a38c",
   "metadata": {},
   "outputs": [
    {
     "name": "stdout",
     "output_type": "stream",
     "text": [
      "converged SCF energy = -76.458949560193\n",
      "[RESULT] Energy of exchange 0.8033*HF:      -7.198335997044\n",
      "[RESULT] Energy of process_energy_low_rung (non_exx): -2.0158615676050706\n",
      "[RESULT] Energy of process_energy_low_rung (total): -9.21419756464918\n",
      "[RESULT] Energy corr MP2 of same-spin:      -0.0867173183\n",
      "[RESULT] Energy corr MP2 of oppo-spin:      -0.2654861318\n",
      "[RESULT] Energy corr MP2 of total:          -0.3522034500\n",
      "[RESULT] Energy of correlation MP2(0.3211, 0.3211):      -0.113092527809\n",
      "[RESULT] Energy of 0.8033*HF + 0.2107*B88 - 0.014*LDA, 0.6789*LYP + MP2(0.3211, 0.3211):     -76.417238524599\n"
     ]
    },
    {
     "data": {
      "text/plain": [
       "-76.41723852459926"
      ]
     },
     "execution_count": 1,
     "metadata": {},
     "output_type": "execute_result"
    }
   ],
   "source": [
    "from pyscf import gto, dh\n",
    "mol = gto.Mole(atom=\"O; H 1 0.94; H 1 0.94 2 104.5\", basis=\"cc-pVTZ\").build()\n",
    "mf = dh.DH(mol, xc=\"XYG3\").build_scf(route_scf=\"RI-J\").run(frozen=\"FreezeNobleGasCore\")\n",
    "mf.e_tot"
   ]
  },
  {
   "cell_type": "markdown",
   "id": "7c3eeafc-6f21-43de-bd0a-ef5cc9a8f368",
   "metadata": {},
   "source": [
    "- Reproduce this result with code by PySCF:"
   ]
  },
  {
   "cell_type": "code",
   "execution_count": 2,
   "id": "1a5e6b04-b130-49ee-b3de-6af1f76c6d24",
   "metadata": {},
   "outputs": [
    {
     "name": "stdout",
     "output_type": "stream",
     "text": [
      "converged SCF energy = -76.458949560193\n",
      "E(DFMP2) = -76.8111530102356  E_corr = -0.35220345004259\n",
      "E(SCS-DFMP2) = -76.8064386910706  E_corr = -0.347489130877568\n"
     ]
    },
    {
     "data": {
      "text/plain": [
       "-76.41723852459097"
      ]
     },
     "execution_count": 2,
     "metadata": {},
     "output_type": "execute_result"
    }
   ],
   "source": [
    "from pyscf import dft, df\n",
    "from pyscf.mp.dfmp2 import DFMP2\n",
    "mf_s = dft.RKS(mol, xc=\"B3LYPg\").density_fit(only_dfj=True).run()\n",
    "mf_n = dft.RKS(mol, xc=\"0.8033*HF + 0.2107*B88 - 0.014*LDA, 0.6789*LYP\").density_fit(only_dfj=True)\n",
    "e_low_rung = mf_n.energy_tot(dm=mf_s.make_rdm1())\n",
    "mf_mp = DFMP2(mf_s)\n",
    "mf_mp.with_df = df.DF(mol, auxbasis=\"cc-pVTZ-ri\")\n",
    "mf_mp.run(frozen=[0])\n",
    "e_corr_mp2 = 0.3211 * mf_mp.e_corr\n",
    "e_tot = e_low_rung + e_corr_mp2\n",
    "e_tot"
   ]
  }
 ],
 "metadata": {
  "kernelspec": {
   "display_name": "Python 3 (ipykernel)",
   "language": "python",
   "name": "python3"
  },
  "language_info": {
   "codemirror_mode": {
    "name": "ipython",
    "version": 3
   },
   "file_extension": ".py",
   "mimetype": "text/x-python",
   "name": "python",
   "nbconvert_exporter": "python",
   "pygments_lexer": "ipython3",
   "version": "3.10.10"
  }
 },
 "nbformat": 4,
 "nbformat_minor": 5
}
