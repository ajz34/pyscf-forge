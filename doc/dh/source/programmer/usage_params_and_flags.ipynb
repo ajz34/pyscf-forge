{
 "cells": [
  {
   "cell_type": "markdown",
   "metadata": {},
   "source": [
    "# Usage of Params and Flags"
   ]
  },
  {
   "cell_type": "markdown",
   "metadata": {},
   "source": [
    "`Params` aims to be data transfer class. All flags, intermediate tensors, results should be transfered by instance of `Params`."
   ]
  },
  {
   "cell_type": "markdown",
   "metadata": {},
   "source": [
    "```python\n",
    "param = Param(flags, tensors, results)\n",
    "```"
   ]
  },
  {
   "cell_type": "code",
   "execution_count": 1,
   "metadata": {},
   "outputs": [],
   "source": [
    "from pyscf.dh.util import Params, HybridDict, DictWithDefault, get_default_options"
   ]
  },
  {
   "cell_type": "markdown",
   "metadata": {},
   "source": [
    "## Guide of using `Params`"
   ]
  },
  {
   "cell_type": "markdown",
   "metadata": {},
   "source": [
    "1. `flags` contains running configurations. Dictionary with default value.\n",
    "   - Should be read-only for most situations, but no enforcement on this.\n",
    "   - Should contain simple types such as booleans, integers, enums, tuples, lists of those types. At least serializable.\n",
    "2. `tensors` contains intermediate matrices/tensors. `HybridDict` instance.\n",
    "   - Should contain `h5py` instance, `np.ndarray` instance.\n",
    "     Other types are strongly not recommended.\n",
    "   - Scalar values are recommanded to be stored in `results` instead of `tensors`; user could also transfer scalar\n",
    "     value to `np.ndarray` instance.\n",
    "3. `results` contains outputs.\n",
    "   - `results` should be serializable."
   ]
  },
  {
   "cell_type": "code",
   "execution_count": 2,
   "metadata": {},
   "outputs": [],
   "source": [
    "params = Params()\n",
    "params.flags.set_default_dict(get_default_options())"
   ]
  },
  {
   "cell_type": "markdown",
   "metadata": {},
   "source": [
    "## Guide of Flags"
   ]
  },
  {
   "cell_type": "markdown",
   "metadata": {},
   "source": [
    "Flags is a dictionary with default values. If you put a key that is not in option list, then a warning message will occur:"
   ]
  },
  {
   "cell_type": "code",
   "execution_count": 3,
   "metadata": {},
   "outputs": [
    {
     "name": "stderr",
     "output_type": "stream",
     "text": [
      "/home/a/pyscf_pack/pyscf-forge/pyscf/dh/util/general.py:319: UserWarning: Option integral_scheme_dft is not in the default option list. This option may not have any effect.\n",
      "  warnings.warn(f\"Option {key} is not in the default option list. This option may not have any effect.\")\n"
     ]
    }
   ],
   "source": [
    "params.flags[\"integral_scheme_mp2\"] = \"Conv\"\n",
    "params.flags[\"integral_scheme_dft\"] = \"RI\""
   ]
  },
  {
   "cell_type": "markdown",
   "metadata": {},
   "source": [
    "You may only see the options you set explicitly when printing this dictionary:"
   ]
  },
  {
   "cell_type": "code",
   "execution_count": 4,
   "metadata": {},
   "outputs": [
    {
     "data": {
      "text/plain": [
       "{'integral_scheme_mp2': 'Conv', 'integral_scheme_dft': 'RI'}"
      ]
     },
     "execution_count": 4,
     "metadata": {},
     "output_type": "execute_result"
    }
   ],
   "source": [
    "params.flags"
   ]
  },
  {
   "cell_type": "markdown",
   "metadata": {},
   "source": [
    "By design of dictionary with default value, you **do not** required to write code like this:\n",
    "\n",
    "```python\n",
    "scheme = params.flags.get(\"omega_list_iepa\", [0])\n",
    "```\n",
    "\n",
    "but you can directly get the default value:"
   ]
  },
  {
   "cell_type": "code",
   "execution_count": 5,
   "metadata": {},
   "outputs": [
    {
     "name": "stdout",
     "output_type": "stream",
     "text": [
      "Conv\n",
      "[0]\n"
     ]
    }
   ],
   "source": [
    "print(params.flags[\"integral_scheme_mp2\"])\n",
    "print(params.flags[\"omega_list_iepa\"])"
   ]
  },
  {
   "cell_type": "markdown",
   "metadata": {},
   "source": [
    "If you wish to temporarily set an option, then use `fill_default_flag`："
   ]
  },
  {
   "cell_type": "code",
   "execution_count": 6,
   "metadata": {},
   "outputs": [
    {
     "name": "stdout",
     "output_type": "stream",
     "text": [
      "RI\n",
      "None\n"
     ]
    }
   ],
   "source": [
    "with params.fill_default_flag({\"integral_scheme_iepa\": \"RI\"}):\n",
    "    print(params.flags[\"integral_scheme_iepa\"])\n",
    "print(params.flags[\"integral_scheme_iepa\"])"
   ]
  }
 ],
 "metadata": {
  "kernelspec": {
   "display_name": "Python 3 (ipykernel)",
   "language": "python",
   "name": "python3"
  },
  "language_info": {
   "codemirror_mode": {
    "name": "ipython",
    "version": 3
   },
   "file_extension": ".py",
   "mimetype": "text/x-python",
   "name": "python",
   "nbconvert_exporter": "python",
   "pygments_lexer": "ipython3",
   "version": "3.8.13"
  }
 },
 "nbformat": 4,
 "nbformat_minor": 4
}
